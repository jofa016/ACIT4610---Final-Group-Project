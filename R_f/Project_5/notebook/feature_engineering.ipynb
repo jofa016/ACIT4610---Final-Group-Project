{
 "cells": [
  {
   "cell_type": "code",
   "execution_count": 1,
   "id": "4b2ac3a1",
   "metadata": {},
   "outputs": [],
   "source": [
    "import numpy as np  \n",
    "import matplotlib.pyplot as plt\n",
    "import gymnasium as gym\n"
   ]
  },
  {
   "cell_type": "markdown",
   "id": "c84f31e5",
   "metadata": {},
   "source": [
    "## Create and Inspect"
   ]
  },
  {
   "cell_type": "code",
   "execution_count": 5,
   "id": "abd76d25",
   "metadata": {},
   "outputs": [
    {
     "name": "stdout",
     "output_type": "stream",
     "text": [
      "State space: 64\n",
      "Action space: 4\n",
      "\n",
      "\u001b[41mS\u001b[0mFFFFFFF\n",
      "FFFFFFFF\n",
      "FFFHFFFF\n",
      "FFFFFHFF\n",
      "FFFHFFFF\n",
      "FHHFFFHF\n",
      "FHFFHFHF\n",
      "FFFHFFFG\n",
      "\n"
     ]
    }
   ],
   "source": [
    "env = gym.make(\"FrozenLake-v1\", map_name=\"8x8\", is_slippery=True, render_mode=\"ansi\")\n",
    "\n",
    "print(\"State space:\", env.observation_space.n)\n",
    "print(\"Action space:\", env.action_space.n)\n",
    "\n",
    "# Reset the environment before rendering and display the initial map\n",
    "obs, info = env.reset()\n",
    "render_output = env.render()\n",
    "print(render_output)\n"
   ]
  }
 ],
 "metadata": {
  "kernelspec": {
   "display_name": "Python 3",
   "language": "python",
   "name": "python3"
  },
  "language_info": {
   "codemirror_mode": {
    "name": "ipython",
    "version": 3
   },
   "file_extension": ".py",
   "mimetype": "text/x-python",
   "name": "python",
   "nbconvert_exporter": "python",
   "pygments_lexer": "ipython3",
   "version": "3.13.1"
  }
 },
 "nbformat": 4,
 "nbformat_minor": 5
}
